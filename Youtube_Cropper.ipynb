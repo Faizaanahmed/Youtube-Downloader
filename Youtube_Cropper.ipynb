{
  "nbformat": 4,
  "nbformat_minor": 0,
  "metadata": {
    "colab": {
      "provenance": [],
      "authorship_tag": "ABX9TyN64CBfxIhznXWt1oSqEEko",
      "include_colab_link": true
    },
    "kernelspec": {
      "name": "python3",
      "display_name": "Python 3"
    },
    "language_info": {
      "name": "python"
    }
  },
  "cells": [
    {
      "cell_type": "markdown",
      "metadata": {
        "id": "view-in-github",
        "colab_type": "text"
      },
      "source": [
        "<a href=\"https://colab.research.google.com/github/Faizaanahmed/Youtube-Downloader/blob/main/Youtube_Cropper.ipynb\" target=\"_parent\"><img src=\"https://colab.research.google.com/assets/colab-badge.svg\" alt=\"Open In Colab\"/></a>"
      ]
    },
    {
      "cell_type": "markdown",
      "source": [
        "Install Dependencies"
      ],
      "metadata": {
        "id": "gHeRPcobX4_2"
      }
    },
    {
      "cell_type": "code",
      "execution_count": 2,
      "metadata": {
        "colab": {
          "base_uri": "https://localhost:8080/"
        },
        "id": "kkFIiALqXpHp",
        "outputId": "dc31f0a9-eddc-4437-cfcd-80d54ab5b273"
      },
      "outputs": [
        {
          "output_type": "stream",
          "name": "stdout",
          "text": [
            "Looking in indexes: https://pypi.org/simple, https://us-python.pkg.dev/colab-wheels/public/simple/\n",
            "Requirement already satisfied: moviepy in /usr/local/lib/python3.7/dist-packages (0.2.3.5)\n",
            "Requirement already satisfied: imageio<3.0,>=2.1.2 in /usr/local/lib/python3.7/dist-packages (from moviepy) (2.9.0)\n",
            "Requirement already satisfied: numpy in /usr/local/lib/python3.7/dist-packages (from moviepy) (1.21.6)\n",
            "Requirement already satisfied: decorator<5.0,>=4.0.2 in /usr/local/lib/python3.7/dist-packages (from moviepy) (4.4.2)\n",
            "Requirement already satisfied: tqdm<5.0,>=4.11.2 in /usr/local/lib/python3.7/dist-packages (from moviepy) (4.64.1)\n",
            "Requirement already satisfied: pillow in /usr/local/lib/python3.7/dist-packages (from imageio<3.0,>=2.1.2->moviepy) (7.1.2)\n",
            "Looking in indexes: https://pypi.org/simple, https://us-python.pkg.dev/colab-wheels/public/simple/\n",
            "Requirement already satisfied: imageio-ffmpeg in /usr/local/lib/python3.7/dist-packages (0.4.7)\n",
            "Looking in indexes: https://pypi.org/simple, https://us-python.pkg.dev/colab-wheels/public/simple/\n",
            "Collecting git+https://github.com/pytube/pytube\n",
            "  Cloning https://github.com/pytube/pytube to /tmp/pip-req-build-1rfpqj2j\n",
            "Building wheels for collected packages: pytube\n",
            "  Building wheel for pytube (setup.py): started\n",
            "  Building wheel for pytube (setup.py): finished with status 'done'\n",
            "  Created wheel for pytube: filename=pytube-12.1.0-py3-none-any.whl size=56809 sha256=de4f031d41354b217cfed30d7533e7fe39d654c2e53f9bf82f5f50c5412f6aa6\n",
            "  Stored in directory: /tmp/pip-ephem-wheel-cache-f57rn88z/wheels/b3/e8/f2/84cd0ef74d9d462fc3f42b04f91eb58ea13e22e5f8408147bf\n",
            "Successfully built pytube\n",
            "Installing collected packages: pytube\n",
            "Successfully installed pytube-12.1.0\n"
          ]
        },
        {
          "output_type": "stream",
          "name": "stderr",
          "text": [
            "  Running command git clone -q https://github.com/pytube/pytube /tmp/pip-req-build-1rfpqj2j\n"
          ]
        }
      ],
      "source": [
        "%%bash\n",
        "pip install --trusted-host pypi.python.org moviepy\n",
        "pip install imageio-ffmpeg\n",
        "pip install git+https://github.com/pytube/pytube"
      ]
    },
    {
      "cell_type": "markdown",
      "source": [
        "Download Video"
      ],
      "metadata": {
        "id": "IFg9VbTUX8qx"
      }
    },
    {
      "cell_type": "code",
      "source": [
        "link = \"https://www.youtube.com/watch?v=IDGOnhly_9k\""
      ],
      "metadata": {
        "id": "r07UQ7ltYlng"
      },
      "execution_count": 7,
      "outputs": []
    },
    {
      "cell_type": "code",
      "source": [
        "from pytube import YouTube\n",
        "yt = YouTube(link)\n",
        "video = yt.streams.filter(progressive=True, file_extension='mp4').order_by('resolution').desc().first().download()"
      ],
      "metadata": {
        "id": "ZaitG9kvYghC"
      },
      "execution_count": 12,
      "outputs": []
    },
    {
      "cell_type": "code",
      "source": [
        "videoname = \"/content/Libertarian Solutions  How to Stop Terrorism Before It Starts & What to Do If That Strategy Fails.mp4\""
      ],
      "metadata": {
        "id": "QZykXAEkX8KE"
      },
      "execution_count": 13,
      "outputs": []
    },
    {
      "cell_type": "code",
      "source": [
        "from moviepy.video.io.ffmpeg_tools import ffmpeg_extract_subclip\n",
        "# ffmpeg_extract_subclip(\"full.mp4\", start_seconds, end_seconds, targetname=\"cut.mp4\")\n",
        "ffmpeg_extract_subclip(videoname, 60, 180, targetname=\"cut.mp4\")"
      ],
      "metadata": {
        "colab": {
          "base_uri": "https://localhost:8080/"
        },
        "id": "sKV3_4o-Xyt4",
        "outputId": "9fbc9663-4dc0-4460-d767-04d32505a245"
      },
      "execution_count": 14,
      "outputs": [
        {
          "output_type": "stream",
          "name": "stdout",
          "text": [
            "\n",
            "[MoviePy] Running:\n",
            ">>> /usr/local/lib/python3.7/dist-packages/imageio_ffmpeg/binaries/ffmpeg-linux64-v4.2.2 -y -i /content/Libertarian Solutions  How to Stop Terrorism Before It Starts & What to Do If That Strategy Fails.mp4 -ss 60.00 -t 120.00 -vcodec copy -acodec copy cut.mp4\n",
            "... command successful.\n"
          ]
        }
      ]
    },
    {
      "cell_type": "code",
      "source": [],
      "metadata": {
        "id": "RqQSv1BaY7Gz"
      },
      "execution_count": null,
      "outputs": []
    }
  ]
}